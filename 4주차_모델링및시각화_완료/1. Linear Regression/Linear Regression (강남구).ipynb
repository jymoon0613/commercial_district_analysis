{
 "cells": [
  {
   "cell_type": "markdown",
   "metadata": {},
   "source": [
    "# 선형회귀 모델 (자치구별)"
   ]
  },
  {
   "cell_type": "code",
   "execution_count": 56,
   "metadata": {},
   "outputs": [],
   "source": [
    "import pandas as pd\n",
    "import numpy as np\n",
    "import seaborn as sns\n",
    "import matplotlib.pyplot as plt\n",
    "from sklearn.linear_model import LinearRegression\n",
    "from mlxtend.preprocessing import minmax_scaling\n",
    "from sklearn.model_selection import train_test_split\n",
    "from sklearn.metrics import mean_squared_error"
   ]
  },
  {
   "cell_type": "markdown",
   "metadata": {},
   "source": [
    "## 1. 데이터 불러오기"
   ]
  },
  {
   "cell_type": "code",
   "execution_count": 4,
   "metadata": {},
   "outputs": [
    {
     "data": {
      "text/html": [
       "<div>\n",
       "<style scoped>\n",
       "    .dataframe tbody tr th:only-of-type {\n",
       "        vertical-align: middle;\n",
       "    }\n",
       "\n",
       "    .dataframe tbody tr th {\n",
       "        vertical-align: top;\n",
       "    }\n",
       "\n",
       "    .dataframe thead th {\n",
       "        text-align: right;\n",
       "    }\n",
       "</style>\n",
       "<table border=\"1\" class=\"dataframe\">\n",
       "  <thead>\n",
       "    <tr style=\"text-align: right;\">\n",
       "      <th></th>\n",
       "      <th>Unnamed: 0</th>\n",
       "      <th>Unnamed: 0.1</th>\n",
       "      <th>기준_년_코드</th>\n",
       "      <th>기준_분기_코드</th>\n",
       "      <th>상권코드_0</th>\n",
       "      <th>상권코드_1</th>\n",
       "      <th>상권코드_2</th>\n",
       "      <th>상권코드_3</th>\n",
       "      <th>상권코드_4</th>\n",
       "      <th>상권코드_5</th>\n",
       "      <th>...</th>\n",
       "      <th>아파트_평균_면적</th>\n",
       "      <th>아파트_평균_시가</th>\n",
       "      <th>총 상주인구 수</th>\n",
       "      <th>집객시설_수</th>\n",
       "      <th>당월_매출_금액</th>\n",
       "      <th>총_직장_인구_수</th>\n",
       "      <th>폐업률</th>\n",
       "      <th>상권_코드</th>\n",
       "      <th>시군구_코드</th>\n",
       "      <th>자치구_명</th>\n",
       "    </tr>\n",
       "  </thead>\n",
       "  <tbody>\n",
       "    <tr>\n",
       "      <th>0</th>\n",
       "      <td>0</td>\n",
       "      <td>0</td>\n",
       "      <td>2020.0</td>\n",
       "      <td>2.0</td>\n",
       "      <td>0.0</td>\n",
       "      <td>0.0</td>\n",
       "      <td>0.0</td>\n",
       "      <td>0.0</td>\n",
       "      <td>0.0</td>\n",
       "      <td>0.0</td>\n",
       "      <td>...</td>\n",
       "      <td>82.273333</td>\n",
       "      <td>2.942853e+08</td>\n",
       "      <td>24.0</td>\n",
       "      <td>52.0</td>\n",
       "      <td>1.671959e+11</td>\n",
       "      <td>15904.0</td>\n",
       "      <td>2.587177</td>\n",
       "      <td>1001496</td>\n",
       "      <td>11680</td>\n",
       "      <td>강남구</td>\n",
       "    </tr>\n",
       "    <tr>\n",
       "      <th>1</th>\n",
       "      <td>1</td>\n",
       "      <td>1</td>\n",
       "      <td>2020.0</td>\n",
       "      <td>2.0</td>\n",
       "      <td>0.0</td>\n",
       "      <td>0.0</td>\n",
       "      <td>0.0</td>\n",
       "      <td>0.0</td>\n",
       "      <td>0.0</td>\n",
       "      <td>0.0</td>\n",
       "      <td>...</td>\n",
       "      <td>89.000000</td>\n",
       "      <td>5.273471e+08</td>\n",
       "      <td>8221.0</td>\n",
       "      <td>242.0</td>\n",
       "      <td>1.546181e+11</td>\n",
       "      <td>24375.0</td>\n",
       "      <td>3.026257</td>\n",
       "      <td>1001495</td>\n",
       "      <td>11710</td>\n",
       "      <td>송파구</td>\n",
       "    </tr>\n",
       "    <tr>\n",
       "      <th>2</th>\n",
       "      <td>2</td>\n",
       "      <td>2</td>\n",
       "      <td>2020.0</td>\n",
       "      <td>2.0</td>\n",
       "      <td>0.0</td>\n",
       "      <td>0.0</td>\n",
       "      <td>0.0</td>\n",
       "      <td>0.0</td>\n",
       "      <td>0.0</td>\n",
       "      <td>0.0</td>\n",
       "      <td>...</td>\n",
       "      <td>39.000000</td>\n",
       "      <td>1.120979e+08</td>\n",
       "      <td>1924.0</td>\n",
       "      <td>327.0</td>\n",
       "      <td>2.592398e+11</td>\n",
       "      <td>32935.0</td>\n",
       "      <td>2.081362</td>\n",
       "      <td>1001494</td>\n",
       "      <td>11110</td>\n",
       "      <td>종로구</td>\n",
       "    </tr>\n",
       "    <tr>\n",
       "      <th>3</th>\n",
       "      <td>3</td>\n",
       "      <td>3</td>\n",
       "      <td>2020.0</td>\n",
       "      <td>2.0</td>\n",
       "      <td>0.0</td>\n",
       "      <td>0.0</td>\n",
       "      <td>0.0</td>\n",
       "      <td>0.0</td>\n",
       "      <td>0.0</td>\n",
       "      <td>0.0</td>\n",
       "      <td>...</td>\n",
       "      <td>53.000000</td>\n",
       "      <td>2.379674e+08</td>\n",
       "      <td>2427.0</td>\n",
       "      <td>165.0</td>\n",
       "      <td>2.466393e+11</td>\n",
       "      <td>6054.0</td>\n",
       "      <td>2.107308</td>\n",
       "      <td>1001493</td>\n",
       "      <td>11140</td>\n",
       "      <td>중구</td>\n",
       "    </tr>\n",
       "    <tr>\n",
       "      <th>4</th>\n",
       "      <td>4</td>\n",
       "      <td>4</td>\n",
       "      <td>2020.0</td>\n",
       "      <td>2.0</td>\n",
       "      <td>0.0</td>\n",
       "      <td>0.0</td>\n",
       "      <td>0.0</td>\n",
       "      <td>0.0</td>\n",
       "      <td>0.0</td>\n",
       "      <td>0.0</td>\n",
       "      <td>...</td>\n",
       "      <td>82.273333</td>\n",
       "      <td>2.942853e+08</td>\n",
       "      <td>1104.0</td>\n",
       "      <td>593.0</td>\n",
       "      <td>3.766214e+11</td>\n",
       "      <td>104830.0</td>\n",
       "      <td>2.163080</td>\n",
       "      <td>1001492</td>\n",
       "      <td>11140</td>\n",
       "      <td>중구</td>\n",
       "    </tr>\n",
       "  </tbody>\n",
       "</table>\n",
       "<p>5 rows × 1512 columns</p>\n",
       "</div>"
      ],
      "text/plain": [
       "   Unnamed: 0  Unnamed: 0.1  기준_년_코드  기준_분기_코드  상권코드_0  상권코드_1  상권코드_2  \\\n",
       "0           0             0   2020.0       2.0     0.0     0.0     0.0   \n",
       "1           1             1   2020.0       2.0     0.0     0.0     0.0   \n",
       "2           2             2   2020.0       2.0     0.0     0.0     0.0   \n",
       "3           3             3   2020.0       2.0     0.0     0.0     0.0   \n",
       "4           4             4   2020.0       2.0     0.0     0.0     0.0   \n",
       "\n",
       "   상권코드_3  상권코드_4  상권코드_5  ...  아파트_평균_면적     아파트_평균_시가  총 상주인구 수  집객시설_수  \\\n",
       "0     0.0     0.0     0.0  ...  82.273333  2.942853e+08      24.0    52.0   \n",
       "1     0.0     0.0     0.0  ...  89.000000  5.273471e+08    8221.0   242.0   \n",
       "2     0.0     0.0     0.0  ...  39.000000  1.120979e+08    1924.0   327.0   \n",
       "3     0.0     0.0     0.0  ...  53.000000  2.379674e+08    2427.0   165.0   \n",
       "4     0.0     0.0     0.0  ...  82.273333  2.942853e+08    1104.0   593.0   \n",
       "\n",
       "       당월_매출_금액  총_직장_인구_수       폐업률    상권_코드  시군구_코드  자치구_명  \n",
       "0  1.671959e+11    15904.0  2.587177  1001496   11680    강남구  \n",
       "1  1.546181e+11    24375.0  3.026257  1001495   11710    송파구  \n",
       "2  2.592398e+11    32935.0  2.081362  1001494   11110    종로구  \n",
       "3  2.466393e+11     6054.0  2.107308  1001493   11140     중구  \n",
       "4  3.766214e+11   104830.0  2.163080  1001492   11140     중구  \n",
       "\n",
       "[5 rows x 1512 columns]"
      ]
     },
     "execution_count": 4,
     "metadata": {},
     "output_type": "execute_result"
    }
   ],
   "source": [
    "df.head()"
   ]
  },
  {
   "cell_type": "code",
   "execution_count": 16,
   "metadata": {},
   "outputs": [
    {
     "data": {
      "text/plain": [
       "(32912, 14)"
      ]
     },
     "execution_count": 16,
     "metadata": {},
     "output_type": "execute_result"
    }
   ],
   "source": [
    "# (row, column)\n",
    "\n",
    "df.shape"
   ]
  },
  {
   "cell_type": "code",
   "execution_count": 17,
   "metadata": {},
   "outputs": [
    {
     "data": {
      "text/plain": [
       "0"
      ]
     },
     "execution_count": 17,
     "metadata": {},
     "output_type": "execute_result"
    }
   ],
   "source": [
    "# 결측치 확인\n",
    "\n",
    "df.isnull().sum().sum()"
   ]
  },
  {
   "cell_type": "code",
   "execution_count": 91,
   "metadata": {},
   "outputs": [
    {
     "data": {
      "text/plain": [
       "Index(['기준_년_코드', '기준_분기_코드', '총_유동인구_수', '아파트_단지_수', '아파트_평균_면적', '아파트_평균_시가',\n",
       "       '총 상주인구 수', '집객시설_수', '당월_매출_금액', '총_직장_인구_수', '폐업률', '상권_코드', '시군구_코드',\n",
       "       '자치구_명'],\n",
       "      dtype='object')"
      ]
     },
     "execution_count": 91,
     "metadata": {},
     "output_type": "execute_result"
    }
   ],
   "source": [
    "# column 확인\n",
    "\n",
    "df.columns"
   ]
  },
  {
   "cell_type": "code",
   "execution_count": 20,
   "metadata": {},
   "outputs": [],
   "source": [
    "# 필요한 column 추출\n",
    "\n",
    "df = df[['기준_년_코드', '기준_분기_코드', '총_유동인구_수', '아파트_단지_수', '아파트_평균_면적', '아파트_평균_시가', '총 상주인구 수', '집객시설_수',\n",
    "       '당월_매출_금액', '총_직장_인구_수', '폐업률', '상권_코드', '시군구_코드', '자치구_명']]"
   ]
  },
  {
   "cell_type": "code",
   "execution_count": 21,
   "metadata": {},
   "outputs": [
    {
     "data": {
      "text/html": [
       "<div>\n",
       "<style scoped>\n",
       "    .dataframe tbody tr th:only-of-type {\n",
       "        vertical-align: middle;\n",
       "    }\n",
       "\n",
       "    .dataframe tbody tr th {\n",
       "        vertical-align: top;\n",
       "    }\n",
       "\n",
       "    .dataframe thead th {\n",
       "        text-align: right;\n",
       "    }\n",
       "</style>\n",
       "<table border=\"1\" class=\"dataframe\">\n",
       "  <thead>\n",
       "    <tr style=\"text-align: right;\">\n",
       "      <th></th>\n",
       "      <th>기준_년_코드</th>\n",
       "      <th>기준_분기_코드</th>\n",
       "      <th>총_유동인구_수</th>\n",
       "      <th>아파트_단지_수</th>\n",
       "      <th>아파트_평균_면적</th>\n",
       "      <th>아파트_평균_시가</th>\n",
       "      <th>총 상주인구 수</th>\n",
       "      <th>집객시설_수</th>\n",
       "      <th>당월_매출_금액</th>\n",
       "      <th>총_직장_인구_수</th>\n",
       "      <th>폐업률</th>\n",
       "      <th>상권_코드</th>\n",
       "      <th>시군구_코드</th>\n",
       "      <th>자치구_명</th>\n",
       "    </tr>\n",
       "  </thead>\n",
       "  <tbody>\n",
       "    <tr>\n",
       "      <th>0</th>\n",
       "      <td>2020.0</td>\n",
       "      <td>2.0</td>\n",
       "      <td>90544.0</td>\n",
       "      <td>14.48</td>\n",
       "      <td>82.273333</td>\n",
       "      <td>2.942853e+08</td>\n",
       "      <td>24.0</td>\n",
       "      <td>52.0</td>\n",
       "      <td>1.671959e+11</td>\n",
       "      <td>15904.0</td>\n",
       "      <td>2.587177</td>\n",
       "      <td>1001496</td>\n",
       "      <td>11680</td>\n",
       "      <td>강남구</td>\n",
       "    </tr>\n",
       "    <tr>\n",
       "      <th>1</th>\n",
       "      <td>2020.0</td>\n",
       "      <td>2.0</td>\n",
       "      <td>3026454.0</td>\n",
       "      <td>22.00</td>\n",
       "      <td>89.000000</td>\n",
       "      <td>5.273471e+08</td>\n",
       "      <td>8221.0</td>\n",
       "      <td>242.0</td>\n",
       "      <td>1.546181e+11</td>\n",
       "      <td>24375.0</td>\n",
       "      <td>3.026257</td>\n",
       "      <td>1001495</td>\n",
       "      <td>11710</td>\n",
       "      <td>송파구</td>\n",
       "    </tr>\n",
       "    <tr>\n",
       "      <th>2</th>\n",
       "      <td>2020.0</td>\n",
       "      <td>2.0</td>\n",
       "      <td>4033679.0</td>\n",
       "      <td>5.00</td>\n",
       "      <td>39.000000</td>\n",
       "      <td>1.120979e+08</td>\n",
       "      <td>1924.0</td>\n",
       "      <td>327.0</td>\n",
       "      <td>2.592398e+11</td>\n",
       "      <td>32935.0</td>\n",
       "      <td>2.081362</td>\n",
       "      <td>1001494</td>\n",
       "      <td>11110</td>\n",
       "      <td>종로구</td>\n",
       "    </tr>\n",
       "    <tr>\n",
       "      <th>3</th>\n",
       "      <td>2020.0</td>\n",
       "      <td>2.0</td>\n",
       "      <td>3262023.0</td>\n",
       "      <td>8.00</td>\n",
       "      <td>53.000000</td>\n",
       "      <td>2.379674e+08</td>\n",
       "      <td>2427.0</td>\n",
       "      <td>165.0</td>\n",
       "      <td>2.466393e+11</td>\n",
       "      <td>6054.0</td>\n",
       "      <td>2.107308</td>\n",
       "      <td>1001493</td>\n",
       "      <td>11140</td>\n",
       "      <td>중구</td>\n",
       "    </tr>\n",
       "    <tr>\n",
       "      <th>4</th>\n",
       "      <td>2020.0</td>\n",
       "      <td>2.0</td>\n",
       "      <td>3764785.0</td>\n",
       "      <td>14.48</td>\n",
       "      <td>82.273333</td>\n",
       "      <td>2.942853e+08</td>\n",
       "      <td>1104.0</td>\n",
       "      <td>593.0</td>\n",
       "      <td>3.766214e+11</td>\n",
       "      <td>104830.0</td>\n",
       "      <td>2.163080</td>\n",
       "      <td>1001492</td>\n",
       "      <td>11140</td>\n",
       "      <td>중구</td>\n",
       "    </tr>\n",
       "  </tbody>\n",
       "</table>\n",
       "</div>"
      ],
      "text/plain": [
       "   기준_년_코드  기준_분기_코드   총_유동인구_수  아파트_단지_수  아파트_평균_면적     아파트_평균_시가  총 상주인구 수  \\\n",
       "0   2020.0       2.0    90544.0     14.48  82.273333  2.942853e+08      24.0   \n",
       "1   2020.0       2.0  3026454.0     22.00  89.000000  5.273471e+08    8221.0   \n",
       "2   2020.0       2.0  4033679.0      5.00  39.000000  1.120979e+08    1924.0   \n",
       "3   2020.0       2.0  3262023.0      8.00  53.000000  2.379674e+08    2427.0   \n",
       "4   2020.0       2.0  3764785.0     14.48  82.273333  2.942853e+08    1104.0   \n",
       "\n",
       "   집객시설_수      당월_매출_금액  총_직장_인구_수       폐업률    상권_코드  시군구_코드 자치구_명  \n",
       "0    52.0  1.671959e+11    15904.0  2.587177  1001496   11680   강남구  \n",
       "1   242.0  1.546181e+11    24375.0  3.026257  1001495   11710   송파구  \n",
       "2   327.0  2.592398e+11    32935.0  2.081362  1001494   11110   종로구  \n",
       "3   165.0  2.466393e+11     6054.0  2.107308  1001493   11140    중구  \n",
       "4   593.0  3.766214e+11   104830.0  2.163080  1001492   11140    중구  "
      ]
     },
     "execution_count": 21,
     "metadata": {},
     "output_type": "execute_result"
    }
   ],
   "source": [
    "df.head()"
   ]
  },
  {
   "cell_type": "code",
   "execution_count": 23,
   "metadata": {},
   "outputs": [
    {
     "data": {
      "text/plain": [
       "array(['강남구', '송파구', '종로구', '중구', '용산구', '강동구', '서초구', '관악구', '동작구',\n",
       "       '영등포구', '금천구', '구로구', '강서구', '양천구', '마포구', '서대문구', '은평구', '노원구',\n",
       "       '도봉구', '강북구', '성북구', '중랑구', '동대문구', '광진구', '성동구'], dtype=object)"
      ]
     },
     "execution_count": 23,
     "metadata": {},
     "output_type": "execute_result"
    }
   ],
   "source": [
    "# 자치구 종류\n",
    "\n",
    "df['자치구_명'].unique()"
   ]
  },
  {
   "cell_type": "code",
   "execution_count": 39,
   "metadata": {},
   "outputs": [],
   "source": [
    "# '강남구'만 우선 추출\n",
    "\n",
    "df_0 = df[df['자치구_명'] == '강남구']"
   ]
  },
  {
   "cell_type": "code",
   "execution_count": 92,
   "metadata": {},
   "outputs": [
    {
     "data": {
      "text/html": [
       "<div>\n",
       "<style scoped>\n",
       "    .dataframe tbody tr th:only-of-type {\n",
       "        vertical-align: middle;\n",
       "    }\n",
       "\n",
       "    .dataframe tbody tr th {\n",
       "        vertical-align: top;\n",
       "    }\n",
       "\n",
       "    .dataframe thead th {\n",
       "        text-align: right;\n",
       "    }\n",
       "</style>\n",
       "<table border=\"1\" class=\"dataframe\">\n",
       "  <thead>\n",
       "    <tr style=\"text-align: right;\">\n",
       "      <th></th>\n",
       "      <th>총_유동인구_수</th>\n",
       "      <th>아파트_단지_수</th>\n",
       "      <th>아파트_평균_면적</th>\n",
       "      <th>아파트_평균_시가</th>\n",
       "      <th>총 상주인구 수</th>\n",
       "      <th>집객시설_수</th>\n",
       "      <th>당월_매출_금액</th>\n",
       "      <th>총_직장_인구_수</th>\n",
       "      <th>폐업률</th>\n",
       "    </tr>\n",
       "  </thead>\n",
       "  <tbody>\n",
       "    <tr>\n",
       "      <th>0</th>\n",
       "      <td>90544.0</td>\n",
       "      <td>14.48</td>\n",
       "      <td>82.273333</td>\n",
       "      <td>2.942853e+08</td>\n",
       "      <td>24.0</td>\n",
       "      <td>52.000000</td>\n",
       "      <td>1.671959e+11</td>\n",
       "      <td>15904.0</td>\n",
       "      <td>2.587177</td>\n",
       "    </tr>\n",
       "    <tr>\n",
       "      <th>20</th>\n",
       "      <td>45750.0</td>\n",
       "      <td>14.48</td>\n",
       "      <td>82.273333</td>\n",
       "      <td>2.942853e+08</td>\n",
       "      <td>7.0</td>\n",
       "      <td>4.000000</td>\n",
       "      <td>3.526016e+09</td>\n",
       "      <td>138.0</td>\n",
       "      <td>2.941176</td>\n",
       "    </tr>\n",
       "    <tr>\n",
       "      <th>21</th>\n",
       "      <td>284809.0</td>\n",
       "      <td>1.00</td>\n",
       "      <td>67.000000</td>\n",
       "      <td>6.392237e+08</td>\n",
       "      <td>241.0</td>\n",
       "      <td>7.000000</td>\n",
       "      <td>1.162736e+10</td>\n",
       "      <td>57.0</td>\n",
       "      <td>0.000000</td>\n",
       "    </tr>\n",
       "    <tr>\n",
       "      <th>22</th>\n",
       "      <td>43891.0</td>\n",
       "      <td>14.48</td>\n",
       "      <td>82.273333</td>\n",
       "      <td>2.942853e+08</td>\n",
       "      <td>171.0</td>\n",
       "      <td>3.000000</td>\n",
       "      <td>2.568207e+09</td>\n",
       "      <td>48.0</td>\n",
       "      <td>2.272727</td>\n",
       "    </tr>\n",
       "    <tr>\n",
       "      <th>23</th>\n",
       "      <td>42987.0</td>\n",
       "      <td>3.00</td>\n",
       "      <td>115.000000</td>\n",
       "      <td>5.125152e+08</td>\n",
       "      <td>85.0</td>\n",
       "      <td>37.766667</td>\n",
       "      <td>3.596760e+09</td>\n",
       "      <td>85.0</td>\n",
       "      <td>5.882353</td>\n",
       "    </tr>\n",
       "  </tbody>\n",
       "</table>\n",
       "</div>"
      ],
      "text/plain": [
       "    총_유동인구_수  아파트_단지_수   아파트_평균_면적     아파트_평균_시가  총 상주인구 수     집객시설_수  \\\n",
       "0    90544.0     14.48   82.273333  2.942853e+08      24.0  52.000000   \n",
       "20   45750.0     14.48   82.273333  2.942853e+08       7.0   4.000000   \n",
       "21  284809.0      1.00   67.000000  6.392237e+08     241.0   7.000000   \n",
       "22   43891.0     14.48   82.273333  2.942853e+08     171.0   3.000000   \n",
       "23   42987.0      3.00  115.000000  5.125152e+08      85.0  37.766667   \n",
       "\n",
       "        당월_매출_금액  총_직장_인구_수       폐업률  \n",
       "0   1.671959e+11    15904.0  2.587177  \n",
       "20  3.526016e+09      138.0  2.941176  \n",
       "21  1.162736e+10       57.0  0.000000  \n",
       "22  2.568207e+09       48.0  2.272727  \n",
       "23  3.596760e+09       85.0  5.882353  "
      ]
     },
     "execution_count": 92,
     "metadata": {},
     "output_type": "execute_result"
    }
   ],
   "source": [
    "df_0.head()"
   ]
  },
  {
   "cell_type": "markdown",
   "metadata": {},
   "source": [
    "## 2. 데이터 전처리\n",
    "### (1) 데이터 정규화"
   ]
  },
  {
   "cell_type": "code",
   "execution_count": 41,
   "metadata": {},
   "outputs": [
    {
     "data": {
      "text/html": [
       "<div>\n",
       "<style scoped>\n",
       "    .dataframe tbody tr th:only-of-type {\n",
       "        vertical-align: middle;\n",
       "    }\n",
       "\n",
       "    .dataframe tbody tr th {\n",
       "        vertical-align: top;\n",
       "    }\n",
       "\n",
       "    .dataframe thead th {\n",
       "        text-align: right;\n",
       "    }\n",
       "</style>\n",
       "<table border=\"1\" class=\"dataframe\">\n",
       "  <thead>\n",
       "    <tr style=\"text-align: right;\">\n",
       "      <th></th>\n",
       "      <th>총_유동인구_수</th>\n",
       "      <th>아파트_단지_수</th>\n",
       "      <th>아파트_평균_면적</th>\n",
       "      <th>아파트_평균_시가</th>\n",
       "      <th>총 상주인구 수</th>\n",
       "      <th>집객시설_수</th>\n",
       "      <th>당월_매출_금액</th>\n",
       "      <th>총_직장_인구_수</th>\n",
       "      <th>폐업률</th>\n",
       "    </tr>\n",
       "  </thead>\n",
       "  <tbody>\n",
       "    <tr>\n",
       "      <th>0</th>\n",
       "      <td>90544.0</td>\n",
       "      <td>14.48</td>\n",
       "      <td>82.273333</td>\n",
       "      <td>2.942853e+08</td>\n",
       "      <td>24.0</td>\n",
       "      <td>52.000000</td>\n",
       "      <td>1.671959e+11</td>\n",
       "      <td>15904.000000</td>\n",
       "      <td>2.587177</td>\n",
       "    </tr>\n",
       "    <tr>\n",
       "      <th>20</th>\n",
       "      <td>45750.0</td>\n",
       "      <td>14.48</td>\n",
       "      <td>82.273333</td>\n",
       "      <td>2.942853e+08</td>\n",
       "      <td>7.0</td>\n",
       "      <td>4.000000</td>\n",
       "      <td>3.526016e+09</td>\n",
       "      <td>138.000000</td>\n",
       "      <td>2.941176</td>\n",
       "    </tr>\n",
       "    <tr>\n",
       "      <th>21</th>\n",
       "      <td>284809.0</td>\n",
       "      <td>1.00</td>\n",
       "      <td>67.000000</td>\n",
       "      <td>6.392237e+08</td>\n",
       "      <td>241.0</td>\n",
       "      <td>7.000000</td>\n",
       "      <td>1.162736e+10</td>\n",
       "      <td>57.000000</td>\n",
       "      <td>0.000000</td>\n",
       "    </tr>\n",
       "    <tr>\n",
       "      <th>22</th>\n",
       "      <td>43891.0</td>\n",
       "      <td>14.48</td>\n",
       "      <td>82.273333</td>\n",
       "      <td>2.942853e+08</td>\n",
       "      <td>171.0</td>\n",
       "      <td>3.000000</td>\n",
       "      <td>2.568207e+09</td>\n",
       "      <td>48.000000</td>\n",
       "      <td>2.272727</td>\n",
       "    </tr>\n",
       "    <tr>\n",
       "      <th>23</th>\n",
       "      <td>42987.0</td>\n",
       "      <td>3.00</td>\n",
       "      <td>115.000000</td>\n",
       "      <td>5.125152e+08</td>\n",
       "      <td>85.0</td>\n",
       "      <td>37.766667</td>\n",
       "      <td>3.596760e+09</td>\n",
       "      <td>85.000000</td>\n",
       "      <td>5.882353</td>\n",
       "    </tr>\n",
       "    <tr>\n",
       "      <th>...</th>\n",
       "      <td>...</td>\n",
       "      <td>...</td>\n",
       "      <td>...</td>\n",
       "      <td>...</td>\n",
       "      <td>...</td>\n",
       "      <td>...</td>\n",
       "      <td>...</td>\n",
       "      <td>...</td>\n",
       "      <td>...</td>\n",
       "    </tr>\n",
       "    <tr>\n",
       "      <th>32729</th>\n",
       "      <td>69530.0</td>\n",
       "      <td>2.00</td>\n",
       "      <td>85.000000</td>\n",
       "      <td>4.174821e+08</td>\n",
       "      <td>303.0</td>\n",
       "      <td>7.000000</td>\n",
       "      <td>2.036024e+10</td>\n",
       "      <td>651.620000</td>\n",
       "      <td>7.526882</td>\n",
       "    </tr>\n",
       "    <tr>\n",
       "      <th>32734</th>\n",
       "      <td>106973.0</td>\n",
       "      <td>3.00</td>\n",
       "      <td>45.000000</td>\n",
       "      <td>2.727871e+08</td>\n",
       "      <td>255.0</td>\n",
       "      <td>3.000000</td>\n",
       "      <td>6.687462e+09</td>\n",
       "      <td>665.326667</td>\n",
       "      <td>8.000000</td>\n",
       "    </tr>\n",
       "    <tr>\n",
       "      <th>32833</th>\n",
       "      <td>74422.0</td>\n",
       "      <td>1.00</td>\n",
       "      <td>95.000000</td>\n",
       "      <td>2.985106e+08</td>\n",
       "      <td>287.0</td>\n",
       "      <td>17.180000</td>\n",
       "      <td>3.516268e+09</td>\n",
       "      <td>651.320000</td>\n",
       "      <td>2.040816</td>\n",
       "    </tr>\n",
       "    <tr>\n",
       "      <th>32834</th>\n",
       "      <td>23840.0</td>\n",
       "      <td>3.00</td>\n",
       "      <td>115.000000</td>\n",
       "      <td>4.175348e+08</td>\n",
       "      <td>85.0</td>\n",
       "      <td>17.400000</td>\n",
       "      <td>6.045909e+07</td>\n",
       "      <td>663.593333</td>\n",
       "      <td>0.000000</td>\n",
       "    </tr>\n",
       "    <tr>\n",
       "      <th>32835</th>\n",
       "      <td>18151.0</td>\n",
       "      <td>1.00</td>\n",
       "      <td>162.000000</td>\n",
       "      <td>1.566000e+09</td>\n",
       "      <td>167.0</td>\n",
       "      <td>3.000000</td>\n",
       "      <td>1.637712e+09</td>\n",
       "      <td>663.346667</td>\n",
       "      <td>1.149425</td>\n",
       "    </tr>\n",
       "  </tbody>\n",
       "</table>\n",
       "<p>2530 rows × 9 columns</p>\n",
       "</div>"
      ],
      "text/plain": [
       "       총_유동인구_수  아파트_단지_수   아파트_평균_면적     아파트_평균_시가  총 상주인구 수     집객시설_수  \\\n",
       "0       90544.0     14.48   82.273333  2.942853e+08      24.0  52.000000   \n",
       "20      45750.0     14.48   82.273333  2.942853e+08       7.0   4.000000   \n",
       "21     284809.0      1.00   67.000000  6.392237e+08     241.0   7.000000   \n",
       "22      43891.0     14.48   82.273333  2.942853e+08     171.0   3.000000   \n",
       "23      42987.0      3.00  115.000000  5.125152e+08      85.0  37.766667   \n",
       "...         ...       ...         ...           ...       ...        ...   \n",
       "32729   69530.0      2.00   85.000000  4.174821e+08     303.0   7.000000   \n",
       "32734  106973.0      3.00   45.000000  2.727871e+08     255.0   3.000000   \n",
       "32833   74422.0      1.00   95.000000  2.985106e+08     287.0  17.180000   \n",
       "32834   23840.0      3.00  115.000000  4.175348e+08      85.0  17.400000   \n",
       "32835   18151.0      1.00  162.000000  1.566000e+09     167.0   3.000000   \n",
       "\n",
       "           당월_매출_금액     총_직장_인구_수       폐업률  \n",
       "0      1.671959e+11  15904.000000  2.587177  \n",
       "20     3.526016e+09    138.000000  2.941176  \n",
       "21     1.162736e+10     57.000000  0.000000  \n",
       "22     2.568207e+09     48.000000  2.272727  \n",
       "23     3.596760e+09     85.000000  5.882353  \n",
       "...             ...           ...       ...  \n",
       "32729  2.036024e+10    651.620000  7.526882  \n",
       "32734  6.687462e+09    665.326667  8.000000  \n",
       "32833  3.516268e+09    651.320000  2.040816  \n",
       "32834  6.045909e+07    663.593333  0.000000  \n",
       "32835  1.637712e+09    663.346667  1.149425  \n",
       "\n",
       "[2530 rows x 9 columns]"
      ]
     },
     "execution_count": 41,
     "metadata": {},
     "output_type": "execute_result"
    }
   ],
   "source": [
    "# 종속변수 : 폐업률, 독립변수 : 총 유동인구 수 ~ 총 직장인구 수\n",
    "\n",
    "df_0 = df_0[df_0.columns[2:11]]\n",
    "df_0"
   ]
  },
  {
   "cell_type": "code",
   "execution_count": 42,
   "metadata": {},
   "outputs": [],
   "source": [
    "# min-max scaling 진행\n",
    "\n",
    "df_0_n = df_0.copy()\n",
    "for col in df_0_n.columns:\n",
    "    if col == '폐업률':\n",
    "        pass\n",
    "    else:\n",
    "        df_0_n[col] = minmax_scaling(df_0[col], columns=[0])"
   ]
  },
  {
   "cell_type": "code",
   "execution_count": 43,
   "metadata": {},
   "outputs": [
    {
     "data": {
      "text/html": [
       "<div>\n",
       "<style scoped>\n",
       "    .dataframe tbody tr th:only-of-type {\n",
       "        vertical-align: middle;\n",
       "    }\n",
       "\n",
       "    .dataframe tbody tr th {\n",
       "        vertical-align: top;\n",
       "    }\n",
       "\n",
       "    .dataframe thead th {\n",
       "        text-align: right;\n",
       "    }\n",
       "</style>\n",
       "<table border=\"1\" class=\"dataframe\">\n",
       "  <thead>\n",
       "    <tr style=\"text-align: right;\">\n",
       "      <th></th>\n",
       "      <th>총_유동인구_수</th>\n",
       "      <th>아파트_단지_수</th>\n",
       "      <th>아파트_평균_면적</th>\n",
       "      <th>아파트_평균_시가</th>\n",
       "      <th>총 상주인구 수</th>\n",
       "      <th>집객시설_수</th>\n",
       "      <th>당월_매출_금액</th>\n",
       "      <th>총_직장_인구_수</th>\n",
       "      <th>폐업률</th>\n",
       "    </tr>\n",
       "  </thead>\n",
       "  <tbody>\n",
       "    <tr>\n",
       "      <th>0</th>\n",
       "      <td>0.019339</td>\n",
       "      <td>0.089867</td>\n",
       "      <td>0.343231</td>\n",
       "      <td>0.094786</td>\n",
       "      <td>0.003239</td>\n",
       "      <td>0.125616</td>\n",
       "      <td>0.586431</td>\n",
       "      <td>0.276495</td>\n",
       "      <td>2.587177</td>\n",
       "    </tr>\n",
       "    <tr>\n",
       "      <th>20</th>\n",
       "      <td>0.009519</td>\n",
       "      <td>0.089867</td>\n",
       "      <td>0.343231</td>\n",
       "      <td>0.094786</td>\n",
       "      <td>0.000945</td>\n",
       "      <td>0.007389</td>\n",
       "      <td>0.012285</td>\n",
       "      <td>0.001812</td>\n",
       "      <td>2.941176</td>\n",
       "    </tr>\n",
       "    <tr>\n",
       "      <th>21</th>\n",
       "      <td>0.061924</td>\n",
       "      <td>0.000000</td>\n",
       "      <td>0.265306</td>\n",
       "      <td>0.244886</td>\n",
       "      <td>0.032528</td>\n",
       "      <td>0.014778</td>\n",
       "      <td>0.040704</td>\n",
       "      <td>0.000401</td>\n",
       "      <td>0.000000</td>\n",
       "    </tr>\n",
       "    <tr>\n",
       "      <th>22</th>\n",
       "      <td>0.009112</td>\n",
       "      <td>0.089867</td>\n",
       "      <td>0.343231</td>\n",
       "      <td>0.094786</td>\n",
       "      <td>0.023080</td>\n",
       "      <td>0.004926</td>\n",
       "      <td>0.008925</td>\n",
       "      <td>0.000244</td>\n",
       "      <td>2.272727</td>\n",
       "    </tr>\n",
       "    <tr>\n",
       "      <th>23</th>\n",
       "      <td>0.008914</td>\n",
       "      <td>0.013333</td>\n",
       "      <td>0.510204</td>\n",
       "      <td>0.189749</td>\n",
       "      <td>0.011473</td>\n",
       "      <td>0.090558</td>\n",
       "      <td>0.012533</td>\n",
       "      <td>0.000889</td>\n",
       "      <td>5.882353</td>\n",
       "    </tr>\n",
       "    <tr>\n",
       "      <th>...</th>\n",
       "      <td>...</td>\n",
       "      <td>...</td>\n",
       "      <td>...</td>\n",
       "      <td>...</td>\n",
       "      <td>...</td>\n",
       "      <td>...</td>\n",
       "      <td>...</td>\n",
       "      <td>...</td>\n",
       "      <td>...</td>\n",
       "    </tr>\n",
       "    <tr>\n",
       "      <th>32729</th>\n",
       "      <td>0.014732</td>\n",
       "      <td>0.006667</td>\n",
       "      <td>0.357143</td>\n",
       "      <td>0.148395</td>\n",
       "      <td>0.040896</td>\n",
       "      <td>0.014778</td>\n",
       "      <td>0.071339</td>\n",
       "      <td>0.010760</td>\n",
       "      <td>7.526882</td>\n",
       "    </tr>\n",
       "    <tr>\n",
       "      <th>32734</th>\n",
       "      <td>0.022940</td>\n",
       "      <td>0.013333</td>\n",
       "      <td>0.153061</td>\n",
       "      <td>0.085431</td>\n",
       "      <td>0.034418</td>\n",
       "      <td>0.004926</td>\n",
       "      <td>0.023376</td>\n",
       "      <td>0.010999</td>\n",
       "      <td>8.000000</td>\n",
       "    </tr>\n",
       "    <tr>\n",
       "      <th>32833</th>\n",
       "      <td>0.015805</td>\n",
       "      <td>0.000000</td>\n",
       "      <td>0.408163</td>\n",
       "      <td>0.096625</td>\n",
       "      <td>0.038737</td>\n",
       "      <td>0.039852</td>\n",
       "      <td>0.012251</td>\n",
       "      <td>0.010755</td>\n",
       "      <td>2.040816</td>\n",
       "    </tr>\n",
       "    <tr>\n",
       "      <th>32834</th>\n",
       "      <td>0.004717</td>\n",
       "      <td>0.013333</td>\n",
       "      <td>0.510204</td>\n",
       "      <td>0.148418</td>\n",
       "      <td>0.011473</td>\n",
       "      <td>0.040394</td>\n",
       "      <td>0.000128</td>\n",
       "      <td>0.010969</td>\n",
       "      <td>0.000000</td>\n",
       "    </tr>\n",
       "    <tr>\n",
       "      <th>32835</th>\n",
       "      <td>0.003469</td>\n",
       "      <td>0.000000</td>\n",
       "      <td>0.750000</td>\n",
       "      <td>0.648172</td>\n",
       "      <td>0.022540</td>\n",
       "      <td>0.004926</td>\n",
       "      <td>0.005661</td>\n",
       "      <td>0.010965</td>\n",
       "      <td>1.149425</td>\n",
       "    </tr>\n",
       "  </tbody>\n",
       "</table>\n",
       "<p>2530 rows × 9 columns</p>\n",
       "</div>"
      ],
      "text/plain": [
       "       총_유동인구_수  아파트_단지_수  아파트_평균_면적  아파트_평균_시가  총 상주인구 수    집객시설_수  당월_매출_금액  \\\n",
       "0      0.019339  0.089867   0.343231   0.094786  0.003239  0.125616  0.586431   \n",
       "20     0.009519  0.089867   0.343231   0.094786  0.000945  0.007389  0.012285   \n",
       "21     0.061924  0.000000   0.265306   0.244886  0.032528  0.014778  0.040704   \n",
       "22     0.009112  0.089867   0.343231   0.094786  0.023080  0.004926  0.008925   \n",
       "23     0.008914  0.013333   0.510204   0.189749  0.011473  0.090558  0.012533   \n",
       "...         ...       ...        ...        ...       ...       ...       ...   \n",
       "32729  0.014732  0.006667   0.357143   0.148395  0.040896  0.014778  0.071339   \n",
       "32734  0.022940  0.013333   0.153061   0.085431  0.034418  0.004926  0.023376   \n",
       "32833  0.015805  0.000000   0.408163   0.096625  0.038737  0.039852  0.012251   \n",
       "32834  0.004717  0.013333   0.510204   0.148418  0.011473  0.040394  0.000128   \n",
       "32835  0.003469  0.000000   0.750000   0.648172  0.022540  0.004926  0.005661   \n",
       "\n",
       "       총_직장_인구_수       폐업률  \n",
       "0       0.276495  2.587177  \n",
       "20      0.001812  2.941176  \n",
       "21      0.000401  0.000000  \n",
       "22      0.000244  2.272727  \n",
       "23      0.000889  5.882353  \n",
       "...          ...       ...  \n",
       "32729   0.010760  7.526882  \n",
       "32734   0.010999  8.000000  \n",
       "32833   0.010755  2.040816  \n",
       "32834   0.010969  0.000000  \n",
       "32835   0.010965  1.149425  \n",
       "\n",
       "[2530 rows x 9 columns]"
      ]
     },
     "execution_count": 43,
     "metadata": {},
     "output_type": "execute_result"
    }
   ],
   "source": [
    "# 결과 확인\n",
    "\n",
    "df_0_n"
   ]
  },
  {
   "cell_type": "markdown",
   "metadata": {},
   "source": [
    "## 3. Model_1 : 독립변수 전부 사용\n",
    "### (1) 모델링"
   ]
  },
  {
   "cell_type": "code",
   "execution_count": 44,
   "metadata": {},
   "outputs": [],
   "source": [
    "X = df_0_n.drop('폐업률', axis = 1)\n",
    "y = df_0_n['폐업률']"
   ]
  },
  {
   "cell_type": "code",
   "execution_count": 45,
   "metadata": {},
   "outputs": [],
   "source": [
    "# 학습 데이터, 검증 데이터 분할 (8:2)\n",
    "X_train, X_test, y_train, y_test = train_test_split(X, y, test_size = 0.2, random_state = 2)"
   ]
  },
  {
   "cell_type": "code",
   "execution_count": 46,
   "metadata": {},
   "outputs": [],
   "source": [
    "# 모델 생성\n",
    "Model_1 = LinearRegression()\n",
    "\n",
    "# 모델 학습\n",
    "Model_1 = Model_1.fit(X_train, y_train)"
   ]
  },
  {
   "cell_type": "code",
   "execution_count": 47,
   "metadata": {},
   "outputs": [
    {
     "data": {
      "text/plain": [
       "array([-0.12804355, -0.34695736,  0.94597037, -2.44761604,  0.80706348,\n",
       "       -0.3598252 ,  0.57767509, -0.21310847])"
      ]
     },
     "execution_count": 47,
     "metadata": {},
     "output_type": "execute_result"
    }
   ],
   "source": [
    "# 회귀 계수\n",
    "Model_1.coef_"
   ]
  },
  {
   "cell_type": "code",
   "execution_count": 48,
   "metadata": {},
   "outputs": [
    {
     "data": {
      "text/plain": [
       "3.4331441186892326"
      ]
     },
     "execution_count": 48,
     "metadata": {},
     "output_type": "execute_result"
    }
   ],
   "source": [
    "# 회귀 절편\n",
    "Model_1.intercept_"
   ]
  },
  {
   "cell_type": "markdown",
   "metadata": {},
   "source": [
    "### (2) 성능 확인"
   ]
  },
  {
   "cell_type": "code",
   "execution_count": 49,
   "metadata": {},
   "outputs": [],
   "source": [
    "# 검증 데이터 예측\n",
    "\n",
    "y_predict = Model_1.predict(X_test)"
   ]
  },
  {
   "cell_type": "code",
   "execution_count": 50,
   "metadata": {},
   "outputs": [
    {
     "data": {
      "text/html": [
       "<div>\n",
       "<style scoped>\n",
       "    .dataframe tbody tr th:only-of-type {\n",
       "        vertical-align: middle;\n",
       "    }\n",
       "\n",
       "    .dataframe tbody tr th {\n",
       "        vertical-align: top;\n",
       "    }\n",
       "\n",
       "    .dataframe thead th {\n",
       "        text-align: right;\n",
       "    }\n",
       "</style>\n",
       "<table border=\"1\" class=\"dataframe\">\n",
       "  <thead>\n",
       "    <tr style=\"text-align: right;\">\n",
       "      <th></th>\n",
       "      <th>y_test</th>\n",
       "      <th>y_predict</th>\n",
       "    </tr>\n",
       "  </thead>\n",
       "  <tbody>\n",
       "    <tr>\n",
       "      <th>14712</th>\n",
       "      <td>0.537634</td>\n",
       "      <td>3.536942</td>\n",
       "    </tr>\n",
       "    <tr>\n",
       "      <th>9380</th>\n",
       "      <td>5.405405</td>\n",
       "      <td>3.645535</td>\n",
       "    </tr>\n",
       "    <tr>\n",
       "      <th>29507</th>\n",
       "      <td>5.785124</td>\n",
       "      <td>3.565587</td>\n",
       "    </tr>\n",
       "    <tr>\n",
       "      <th>19945</th>\n",
       "      <td>3.309481</td>\n",
       "      <td>3.669674</td>\n",
       "    </tr>\n",
       "    <tr>\n",
       "      <th>31806</th>\n",
       "      <td>7.092199</td>\n",
       "      <td>3.417376</td>\n",
       "    </tr>\n",
       "    <tr>\n",
       "      <th>...</th>\n",
       "      <td>...</td>\n",
       "      <td>...</td>\n",
       "    </tr>\n",
       "    <tr>\n",
       "      <th>21454</th>\n",
       "      <td>4.878049</td>\n",
       "      <td>3.543447</td>\n",
       "    </tr>\n",
       "    <tr>\n",
       "      <th>17245</th>\n",
       "      <td>3.833866</td>\n",
       "      <td>3.604679</td>\n",
       "    </tr>\n",
       "    <tr>\n",
       "      <th>15888</th>\n",
       "      <td>2.933333</td>\n",
       "      <td>3.503324</td>\n",
       "    </tr>\n",
       "    <tr>\n",
       "      <th>29330</th>\n",
       "      <td>1.666667</td>\n",
       "      <td>3.533374</td>\n",
       "    </tr>\n",
       "    <tr>\n",
       "      <th>3347</th>\n",
       "      <td>2.607562</td>\n",
       "      <td>3.528240</td>\n",
       "    </tr>\n",
       "  </tbody>\n",
       "</table>\n",
       "<p>506 rows × 2 columns</p>\n",
       "</div>"
      ],
      "text/plain": [
       "         y_test  y_predict\n",
       "14712  0.537634   3.536942\n",
       "9380   5.405405   3.645535\n",
       "29507  5.785124   3.565587\n",
       "19945  3.309481   3.669674\n",
       "31806  7.092199   3.417376\n",
       "...         ...        ...\n",
       "21454  4.878049   3.543447\n",
       "17245  3.833866   3.604679\n",
       "15888  2.933333   3.503324\n",
       "29330  1.666667   3.533374\n",
       "3347   2.607562   3.528240\n",
       "\n",
       "[506 rows x 2 columns]"
      ]
     },
     "execution_count": 50,
     "metadata": {},
     "output_type": "execute_result"
    }
   ],
   "source": [
    "# 실제값 : 예측값 비교\n",
    "\n",
    "y_compare = {'y_test' : y_test, 'y_predict' : y_predict}\n",
    "pd.DataFrame(y_compare)"
   ]
  },
  {
   "cell_type": "code",
   "execution_count": 51,
   "metadata": {},
   "outputs": [
    {
     "data": {
      "text/plain": [
       "Text(0.5, 1.0, 'y_predict & y_test')"
      ]
     },
     "execution_count": 51,
     "metadata": {},
     "output_type": "execute_result"
    },
    {
     "data": {
      "image/png": "[encoded data removed]",
      "text/plain": [
       "<Figure size 720x720 with 1 Axes>"
      ]
     },
     "metadata": {
      "needs_background": "light"
     },
     "output_type": "display_data"
    }
   ],
   "source": [
    "# 실제값 : 예측값 비교\n",
    "\n",
    "plt.figure(figsize = (10,10))\n",
    "sns.scatterplot(x = 'y_predict', y = 'y_test', data = y_compare)\n",
    "plt.xlabel('y_predict')\n",
    "plt.ylabel('y_test')\n",
    "plt.title('y_predict & y_test')"
   ]
  },
  {
   "cell_type": "code",
   "execution_count": 52,
   "metadata": {},
   "outputs": [
    {
     "data": {
      "text/plain": [
       "0.014246497844213946"
      ]
     },
     "execution_count": 52,
     "metadata": {},
     "output_type": "execute_result"
    }
   ],
   "source": [
    "# 훈련 데이터 결정계수(R-Squared)\n",
    "\n",
    "Model_1.score(X_train, y_train)"
   ]
  },
  {
   "cell_type": "code",
   "execution_count": 53,
   "metadata": {},
   "outputs": [
    {
     "data": {
      "text/plain": [
       "-0.006709638327408118"
      ]
     },
     "execution_count": 53,
     "metadata": {},
     "output_type": "execute_result"
    }
   ],
   "source": [
    "# 검증 데이터 결정계수(R-Squared)\n",
    "\n",
    "Model_1.score(X_test, y_test)"
   ]
  },
  {
   "cell_type": "code",
   "execution_count": 57,
   "metadata": {},
   "outputs": [
    {
     "data": {
      "text/plain": [
       "1.754378149855431"
      ]
     },
     "execution_count": 57,
     "metadata": {},
     "output_type": "execute_result"
    }
   ],
   "source": [
    "# 훈련 데이터 RMSE\n",
    "y_pred = Model_1.predict(X_train)\n",
    "np.sqrt(mean_squared_error(y_train, y_pred))"
   ]
  },
  {
   "cell_type": "code",
   "execution_count": 58,
   "metadata": {},
   "outputs": [
    {
     "data": {
      "text/plain": [
       "1.8158277296954015"
      ]
     },
     "execution_count": 58,
     "metadata": {},
     "output_type": "execute_result"
    }
   ],
   "source": [
    "# 검증 데이터 RMSE\n",
    "y_pred = Model_1.predict(X_test)\n",
    "np.sqrt(mean_squared_error(y_test, y_pred))"
   ]
  },
  {
   "cell_type": "markdown",
   "metadata": {},
   "source": [
    "## 4. Model_2 : 다중공선성 제거 후 모델링\n",
    "### (1) 다중공선성 확인"
   ]
  },
  {
   "cell_type": "code",
   "execution_count": 59,
   "metadata": {},
   "outputs": [
    {
     "data": {
      "text/plain": [
       "<matplotlib.axes._subplots.AxesSubplot at 0x22303c23808>"
      ]
     },
     "execution_count": 59,
     "metadata": {},
     "output_type": "execute_result"
    },
    {
     "data": {
      "image/png": "[encoded data removed]",
      "text/plain": [
       "<Figure size 720x720 with 2 Axes>"
      ]
     },
     "metadata": {
      "needs_background": "light"
     },
     "output_type": "display_data"
    }
   ],
   "source": [
    "# 변수간 상관관계 히트맵\n",
    "\n",
    "plt.rc('font', family='Batang')\n",
    "plt.figure(figsize = (10,10))\n",
    "sns.heatmap(df_0_n.corr(), annot = True, cmap = 'Reds')"
   ]
  },
  {
   "cell_type": "markdown",
   "metadata": {},
   "source": [
    "- 변수간 상관관계가 높은 경우 존재  \n",
    "- 상관관계가 높은 변수들을 제거하여 모델의 성능을 높임"
   ]
  },
  {
   "cell_type": "code",
   "execution_count": 62,
   "metadata": {},
   "outputs": [
    {
     "data": {
      "text/html": [
       "<div>\n",
       "<style scoped>\n",
       "    .dataframe tbody tr th:only-of-type {\n",
       "        vertical-align: middle;\n",
       "    }\n",
       "\n",
       "    .dataframe tbody tr th {\n",
       "        vertical-align: top;\n",
       "    }\n",
       "\n",
       "    .dataframe thead th {\n",
       "        text-align: right;\n",
       "    }\n",
       "</style>\n",
       "<table border=\"1\" class=\"dataframe\">\n",
       "  <thead>\n",
       "    <tr style=\"text-align: right;\">\n",
       "      <th></th>\n",
       "      <th>VIF Factor</th>\n",
       "      <th>features</th>\n",
       "    </tr>\n",
       "  </thead>\n",
       "  <tbody>\n",
       "    <tr>\n",
       "      <th>0</th>\n",
       "      <td>5.439645</td>\n",
       "      <td>총_유동인구_수</td>\n",
       "    </tr>\n",
       "    <tr>\n",
       "      <th>1</th>\n",
       "      <td>6.107934</td>\n",
       "      <td>아파트_단지_수</td>\n",
       "    </tr>\n",
       "    <tr>\n",
       "      <th>2</th>\n",
       "      <td>12.128356</td>\n",
       "      <td>아파트_평균_면적</td>\n",
       "    </tr>\n",
       "    <tr>\n",
       "      <th>3</th>\n",
       "      <td>6.768675</td>\n",
       "      <td>아파트_평균_시가</td>\n",
       "    </tr>\n",
       "    <tr>\n",
       "      <th>4</th>\n",
       "      <td>7.446813</td>\n",
       "      <td>총 상주인구 수</td>\n",
       "    </tr>\n",
       "    <tr>\n",
       "      <th>5</th>\n",
       "      <td>6.846707</td>\n",
       "      <td>집객시설_수</td>\n",
       "    </tr>\n",
       "    <tr>\n",
       "      <th>6</th>\n",
       "      <td>5.753266</td>\n",
       "      <td>당월_매출_금액</td>\n",
       "    </tr>\n",
       "    <tr>\n",
       "      <th>7</th>\n",
       "      <td>2.098910</td>\n",
       "      <td>총_직장_인구_수</td>\n",
       "    </tr>\n",
       "    <tr>\n",
       "      <th>8</th>\n",
       "      <td>3.770918</td>\n",
       "      <td>폐업률</td>\n",
       "    </tr>\n",
       "  </tbody>\n",
       "</table>\n",
       "</div>"
      ],
      "text/plain": [
       "   VIF Factor   features\n",
       "0    5.439645   총_유동인구_수\n",
       "1    6.107934   아파트_단지_수\n",
       "2   12.128356  아파트_평균_면적\n",
       "3    6.768675  아파트_평균_시가\n",
       "4    7.446813   총 상주인구 수\n",
       "5    6.846707     집객시설_수\n",
       "6    5.753266   당월_매출_금액\n",
       "7    2.098910  총_직장_인구_수\n",
       "8    3.770918        폐업률"
      ]
     },
     "execution_count": 62,
     "metadata": {},
     "output_type": "execute_result"
    }
   ],
   "source": [
    "# VIF(분산 팽창 요인) 계산\n",
    "\n",
    "from statsmodels.stats.outliers_influence import variance_inflation_factor\n",
    "\n",
    "vif = pd.DataFrame()\n",
    "vif[\"VIF Factor\"] = [variance_inflation_factor(df_0_n.values, i) for i in range(df_0_n.shape[1])]\n",
    "vif[\"features\"] = df_0_n.columns\n",
    "vif"
   ]
  },
  {
   "cell_type": "markdown",
   "metadata": {},
   "source": [
    "- VIF Factor가 10 이상 >> 위험\n",
    "- VIF Factor가 5 이상 >> 주의\n",
    "- '아파트 평균 면적' column 제거 후 다시 계산"
   ]
  },
  {
   "cell_type": "code",
   "execution_count": 64,
   "metadata": {},
   "outputs": [
    {
     "data": {
      "text/html": [
       "<div>\n",
       "<style scoped>\n",
       "    .dataframe tbody tr th:only-of-type {\n",
       "        vertical-align: middle;\n",
       "    }\n",
       "\n",
       "    .dataframe tbody tr th {\n",
       "        vertical-align: top;\n",
       "    }\n",
       "\n",
       "    .dataframe thead th {\n",
       "        text-align: right;\n",
       "    }\n",
       "</style>\n",
       "<table border=\"1\" class=\"dataframe\">\n",
       "  <thead>\n",
       "    <tr style=\"text-align: right;\">\n",
       "      <th></th>\n",
       "      <th>VIF Factor</th>\n",
       "      <th>features</th>\n",
       "    </tr>\n",
       "  </thead>\n",
       "  <tbody>\n",
       "    <tr>\n",
       "      <th>0</th>\n",
       "      <td>5.383415</td>\n",
       "      <td>총_유동인구_수</td>\n",
       "    </tr>\n",
       "    <tr>\n",
       "      <th>1</th>\n",
       "      <td>5.806544</td>\n",
       "      <td>아파트_단지_수</td>\n",
       "    </tr>\n",
       "    <tr>\n",
       "      <th>2</th>\n",
       "      <td>1.624858</td>\n",
       "      <td>아파트_평균_시가</td>\n",
       "    </tr>\n",
       "    <tr>\n",
       "      <th>3</th>\n",
       "      <td>7.441309</td>\n",
       "      <td>총 상주인구 수</td>\n",
       "    </tr>\n",
       "    <tr>\n",
       "      <th>4</th>\n",
       "      <td>6.832815</td>\n",
       "      <td>집객시설_수</td>\n",
       "    </tr>\n",
       "    <tr>\n",
       "      <th>5</th>\n",
       "      <td>5.749486</td>\n",
       "      <td>당월_매출_금액</td>\n",
       "    </tr>\n",
       "    <tr>\n",
       "      <th>6</th>\n",
       "      <td>2.082230</td>\n",
       "      <td>총_직장_인구_수</td>\n",
       "    </tr>\n",
       "    <tr>\n",
       "      <th>7</th>\n",
       "      <td>2.644061</td>\n",
       "      <td>폐업률</td>\n",
       "    </tr>\n",
       "  </tbody>\n",
       "</table>\n",
       "</div>"
      ],
      "text/plain": [
       "   VIF Factor   features\n",
       "0    5.383415   총_유동인구_수\n",
       "1    5.806544   아파트_단지_수\n",
       "2    1.624858  아파트_평균_시가\n",
       "3    7.441309   총 상주인구 수\n",
       "4    6.832815     집객시설_수\n",
       "5    5.749486   당월_매출_금액\n",
       "6    2.082230  총_직장_인구_수\n",
       "7    2.644061        폐업률"
      ]
     },
     "execution_count": 64,
     "metadata": {},
     "output_type": "execute_result"
    }
   ],
   "source": [
    "df_0_n_2 = df_0_n.drop('아파트_평균_면적', axis = 1)\n",
    "\n",
    "vif = pd.DataFrame()\n",
    "vif[\"VIF Factor\"] = [variance_inflation_factor(df_0_n_2.values, i) for i in range(df_0_n_2.shape[1])]\n",
    "vif[\"features\"] = df_0_n_2.columns\n",
    "vif"
   ]
  },
  {
   "cell_type": "markdown",
   "metadata": {},
   "source": [
    "### (2) 모델링"
   ]
  },
  {
   "cell_type": "code",
   "execution_count": 66,
   "metadata": {},
   "outputs": [],
   "source": [
    "# 데이터 분할\n",
    "\n",
    "X = df_0_n_2.drop('폐업률', axis = 1)\n",
    "y = df_0_n_2['폐업률']\n",
    "X_train_2, X_test_2, y_train_2, y_test_2 = train_test_split(X, y, test_size = 0.2, random_state = 2)\n",
    "\n",
    "# 모델 학습\n",
    "\n",
    "Model_2 = LinearRegression()\n",
    "Model_2 = Model_2.fit(X_train_2, y_train_2)"
   ]
  },
  {
   "cell_type": "code",
   "execution_count": 67,
   "metadata": {},
   "outputs": [
    {
     "data": {
      "text/plain": [
       "array([-0.27681919, -0.25190143, -1.51020032,  0.72151929, -0.26480943,\n",
       "        0.59803442, -0.22581405])"
      ]
     },
     "execution_count": 67,
     "metadata": {},
     "output_type": "execute_result"
    }
   ],
   "source": [
    "# 회귀 계수\n",
    "\n",
    "Model_2.coef_"
   ]
  },
  {
   "cell_type": "code",
   "execution_count": 68,
   "metadata": {},
   "outputs": [
    {
     "data": {
      "text/plain": [
       "3.5965870582945745"
      ]
     },
     "execution_count": 68,
     "metadata": {},
     "output_type": "execute_result"
    }
   ],
   "source": [
    "# 회귀식 절편\n",
    "\n",
    "Model_2.intercept_"
   ]
  },
  {
   "cell_type": "markdown",
   "metadata": {},
   "source": [
    "### (3) 성능 확인"
   ]
  },
  {
   "cell_type": "code",
   "execution_count": 69,
   "metadata": {},
   "outputs": [
    {
     "data": {
      "text/html": [
       "<div>\n",
       "<style scoped>\n",
       "    .dataframe tbody tr th:only-of-type {\n",
       "        vertical-align: middle;\n",
       "    }\n",
       "\n",
       "    .dataframe tbody tr th {\n",
       "        vertical-align: top;\n",
       "    }\n",
       "\n",
       "    .dataframe thead th {\n",
       "        text-align: right;\n",
       "    }\n",
       "</style>\n",
       "<table border=\"1\" class=\"dataframe\">\n",
       "  <thead>\n",
       "    <tr style=\"text-align: right;\">\n",
       "      <th></th>\n",
       "      <th>y_test</th>\n",
       "      <th>y_predict</th>\n",
       "    </tr>\n",
       "  </thead>\n",
       "  <tbody>\n",
       "    <tr>\n",
       "      <th>14712</th>\n",
       "      <td>0.537634</td>\n",
       "      <td>3.557266</td>\n",
       "    </tr>\n",
       "    <tr>\n",
       "      <th>9380</th>\n",
       "      <td>5.405405</td>\n",
       "      <td>3.690200</td>\n",
       "    </tr>\n",
       "    <tr>\n",
       "      <th>29507</th>\n",
       "      <td>5.785124</td>\n",
       "      <td>3.618109</td>\n",
       "    </tr>\n",
       "    <tr>\n",
       "      <th>19945</th>\n",
       "      <td>3.309481</td>\n",
       "      <td>3.727839</td>\n",
       "    </tr>\n",
       "    <tr>\n",
       "      <th>31806</th>\n",
       "      <td>7.092199</td>\n",
       "      <td>3.433653</td>\n",
       "    </tr>\n",
       "    <tr>\n",
       "      <th>...</th>\n",
       "      <td>...</td>\n",
       "      <td>...</td>\n",
       "    </tr>\n",
       "    <tr>\n",
       "      <th>21454</th>\n",
       "      <td>4.878049</td>\n",
       "      <td>3.548538</td>\n",
       "    </tr>\n",
       "    <tr>\n",
       "      <th>17245</th>\n",
       "      <td>3.833866</td>\n",
       "      <td>3.648222</td>\n",
       "    </tr>\n",
       "    <tr>\n",
       "      <th>15888</th>\n",
       "      <td>2.933333</td>\n",
       "      <td>3.541666</td>\n",
       "    </tr>\n",
       "    <tr>\n",
       "      <th>29330</th>\n",
       "      <td>1.666667</td>\n",
       "      <td>3.551162</td>\n",
       "    </tr>\n",
       "    <tr>\n",
       "      <th>3347</th>\n",
       "      <td>2.607562</td>\n",
       "      <td>3.505053</td>\n",
       "    </tr>\n",
       "  </tbody>\n",
       "</table>\n",
       "<p>506 rows × 2 columns</p>\n",
       "</div>"
      ],
      "text/plain": [
       "         y_test  y_predict\n",
       "14712  0.537634   3.557266\n",
       "9380   5.405405   3.690200\n",
       "29507  5.785124   3.618109\n",
       "19945  3.309481   3.727839\n",
       "31806  7.092199   3.433653\n",
       "...         ...        ...\n",
       "21454  4.878049   3.548538\n",
       "17245  3.833866   3.648222\n",
       "15888  2.933333   3.541666\n",
       "29330  1.666667   3.551162\n",
       "3347   2.607562   3.505053\n",
       "\n",
       "[506 rows x 2 columns]"
      ]
     },
     "execution_count": 69,
     "metadata": {},
     "output_type": "execute_result"
    }
   ],
   "source": [
    "# 검증 데이터 예측\n",
    "\n",
    "y_predict = Model_2.predict(X_test_2)\n",
    "\n",
    "# 실제값 : 예측값 비교\n",
    "\n",
    "y_compare = {'y_test' : y_test_2, 'y_predict' : y_predict}\n",
    "pd.DataFrame(y_compare)"
   ]
  },
  {
   "cell_type": "code",
   "execution_count": 70,
   "metadata": {},
   "outputs": [
    {
     "data": {
      "text/plain": [
       "Text(0.5, 1.0, 'y_predict & y_test')"
      ]
     },
     "execution_count": 70,
     "metadata": {},
     "output_type": "execute_result"
    },
    {
     "data": {
      "image/png": "[encoded data removed]",
      "text/plain": [
       "<Figure size 720x720 with 1 Axes>"
      ]
     },
     "metadata": {
      "needs_background": "light"
     },
     "output_type": "display_data"
    }
   ],
   "source": [
    "# 실제값 : 예측값 비교\n",
    "\n",
    "plt.figure(figsize = (10,10))\n",
    "sns.scatterplot(x = 'y_predict', y = 'y_test', data = y_compare)\n",
    "plt.xlabel('y_predict')\n",
    "plt.ylabel('y_test')\n",
    "plt.title('y_predict & y_test')"
   ]
  },
  {
   "cell_type": "code",
   "execution_count": 71,
   "metadata": {},
   "outputs": [
    {
     "data": {
      "text/plain": [
       "0.012949490612533698"
      ]
     },
     "execution_count": 71,
     "metadata": {},
     "output_type": "execute_result"
    }
   ],
   "source": [
    "# 훈련 데이터 결정계수(R-Squared)\n",
    "\n",
    "Model_2.score(X_train_2, y_train_2)"
   ]
  },
  {
   "cell_type": "code",
   "execution_count": 72,
   "metadata": {},
   "outputs": [
    {
     "data": {
      "text/plain": [
       "-0.010098795908302982"
      ]
     },
     "execution_count": 72,
     "metadata": {},
     "output_type": "execute_result"
    }
   ],
   "source": [
    "# 검증 데이터 결정계수(R-Squared)\n",
    "\n",
    "Model_2.score(X_test_2, y_test_2)"
   ]
  },
  {
   "cell_type": "code",
   "execution_count": 73,
   "metadata": {},
   "outputs": [
    {
     "data": {
      "text/plain": [
       "1.7555319338163198"
      ]
     },
     "execution_count": 73,
     "metadata": {},
     "output_type": "execute_result"
    }
   ],
   "source": [
    "# 훈련 데이터 RMSE\n",
    "\n",
    "y_pred = Model_2.predict(X_train_2)\n",
    "np.sqrt(mean_squared_error(y_train_2, y_pred))"
   ]
  },
  {
   "cell_type": "code",
   "execution_count": 74,
   "metadata": {},
   "outputs": [
    {
     "data": {
      "text/plain": [
       "1.8188817162716115"
      ]
     },
     "execution_count": 74,
     "metadata": {},
     "output_type": "execute_result"
    }
   ],
   "source": [
    "# 검증 데이터 RMSE\n",
    "\n",
    "y_pred = Model_2.predict(X_test_2)\n",
    "np.sqrt(mean_squared_error(y_test_2, y_pred))"
   ]
  },
  {
   "cell_type": "markdown",
   "metadata": {},
   "source": [
    "- Model_1과 성능이 비슷함"
   ]
  },
  {
   "cell_type": "markdown",
   "metadata": {},
   "source": [
    "# 5. Model_3 : 변수선택 알고리즘 적용\n",
    "### (1) 변수선택 알고리즘 정의"
   ]
  },
  {
   "cell_type": "code",
   "execution_count": 77,
   "metadata": {},
   "outputs": [],
   "source": [
    "import time\n",
    "import itertools \n",
    "\n",
    "def processSubset(X,y,feature_set):\n",
    "    model = LinearRegression()\n",
    "    regr = model.fit(X[list(feature_set)], y) \n",
    "    y_pred = regr.predict(X_test_3[list(feature_set)])\n",
    "    rmse = np.sqrt(mean_squared_error(y_test_3, y_pred))\n",
    "    return {\"model\" : regr, \"rmse\" : rmse, \"features\" : feature_set}\n",
    "\n",
    "def getBest(X,y,k):\n",
    "    results = []\n",
    "    for combo in itertools.combinations(X.columns, k) :\n",
    "        \n",
    "        combo = (list(combo))  \n",
    "        results.append(processSubset(X,y,feature_set = combo))\n",
    "    models = pd.DataFrame(results)\n",
    "    best_model = models.loc[models['rmse'].argmin()]\n",
    "    toc = time.time()\n",
    "    print(\"Processed\", models.shape[0], \"predictors\")\n",
    "    \n",
    "    return best_model"
   ]
  },
  {
   "cell_type": "markdown",
   "metadata": {},
   "source": [
    "- RMSE가 가장 낮은 모델 반환"
   ]
  },
  {
   "cell_type": "markdown",
   "metadata": {},
   "source": [
    "### (2) 모델링"
   ]
  },
  {
   "cell_type": "code",
   "execution_count": 78,
   "metadata": {},
   "outputs": [],
   "source": [
    "X = df_0_n.drop('폐업률', axis = 1)\n",
    "y = df_0_n['폐업률']\n",
    "\n",
    "X_train_3, X_test_3, y_train_3, y_test_3 = train_test_split(X, y, test_size = 0.2, random_state = 2)"
   ]
  },
  {
   "cell_type": "code",
   "execution_count": 80,
   "metadata": {},
   "outputs": [
    {
     "name": "stdout",
     "output_type": "stream",
     "text": [
      "Processed 8 predictors\n",
      "Processed 28 predictors\n",
      "Processed 56 predictors\n",
      "Processed 70 predictors\n",
      "Processed 56 predictors\n",
      "Processed 28 predictors\n",
      "Processed 8 predictors\n",
      "Processed 1 predictors\n"
     ]
    },
    {
     "data": {
      "text/html": [
       "<div>\n",
       "<style scoped>\n",
       "    .dataframe tbody tr th:only-of-type {\n",
       "        vertical-align: middle;\n",
       "    }\n",
       "\n",
       "    .dataframe tbody tr th {\n",
       "        vertical-align: top;\n",
       "    }\n",
       "\n",
       "    .dataframe thead th {\n",
       "        text-align: right;\n",
       "    }\n",
       "</style>\n",
       "<table border=\"1\" class=\"dataframe\">\n",
       "  <thead>\n",
       "    <tr style=\"text-align: right;\">\n",
       "      <th></th>\n",
       "      <th>model</th>\n",
       "      <th>rmse</th>\n",
       "      <th>features</th>\n",
       "    </tr>\n",
       "  </thead>\n",
       "  <tbody>\n",
       "    <tr>\n",
       "      <th>1</th>\n",
       "      <td>LinearRegression(copy_X=True, fit_intercept=Tr...</td>\n",
       "      <td>1.815918</td>\n",
       "      <td>[총_직장_인구_수]</td>\n",
       "    </tr>\n",
       "    <tr>\n",
       "      <th>2</th>\n",
       "      <td>LinearRegression(copy_X=True, fit_intercept=Tr...</td>\n",
       "      <td>1.813821</td>\n",
       "      <td>[아파트_평균_면적, 아파트_평균_시가]</td>\n",
       "    </tr>\n",
       "    <tr>\n",
       "      <th>3</th>\n",
       "      <td>LinearRegression(copy_X=True, fit_intercept=Tr...</td>\n",
       "      <td>1.813846</td>\n",
       "      <td>[아파트_평균_면적, 아파트_평균_시가, 총_직장_인구_수]</td>\n",
       "    </tr>\n",
       "    <tr>\n",
       "      <th>4</th>\n",
       "      <td>LinearRegression(copy_X=True, fit_intercept=Tr...</td>\n",
       "      <td>1.814355</td>\n",
       "      <td>[아파트_평균_면적, 아파트_평균_시가, 집객시설_수, 총_직장_인구_수]</td>\n",
       "    </tr>\n",
       "    <tr>\n",
       "      <th>5</th>\n",
       "      <td>LinearRegression(copy_X=True, fit_intercept=Tr...</td>\n",
       "      <td>1.814973</td>\n",
       "      <td>[아파트_평균_면적, 아파트_평균_시가, 집객시설_수, 당월_매출_금액, 총_직장_...</td>\n",
       "    </tr>\n",
       "    <tr>\n",
       "      <th>6</th>\n",
       "      <td>LinearRegression(copy_X=True, fit_intercept=Tr...</td>\n",
       "      <td>1.814920</td>\n",
       "      <td>[총_유동인구_수, 아파트_단지_수, 아파트_평균_면적, 아파트_평균_시가, 총 상...</td>\n",
       "    </tr>\n",
       "    <tr>\n",
       "      <th>7</th>\n",
       "      <td>LinearRegression(copy_X=True, fit_intercept=Tr...</td>\n",
       "      <td>1.815083</td>\n",
       "      <td>[총_유동인구_수, 아파트_단지_수, 아파트_평균_면적, 아파트_평균_시가, 총 상...</td>\n",
       "    </tr>\n",
       "    <tr>\n",
       "      <th>8</th>\n",
       "      <td>LinearRegression(copy_X=True, fit_intercept=Tr...</td>\n",
       "      <td>1.815828</td>\n",
       "      <td>[총_유동인구_수, 아파트_단지_수, 아파트_평균_면적, 아파트_평균_시가, 총 상...</td>\n",
       "    </tr>\n",
       "  </tbody>\n",
       "</table>\n",
       "</div>"
      ],
      "text/plain": [
       "                                               model      rmse  \\\n",
       "1  LinearRegression(copy_X=True, fit_intercept=Tr...  1.815918   \n",
       "2  LinearRegression(copy_X=True, fit_intercept=Tr...  1.813821   \n",
       "3  LinearRegression(copy_X=True, fit_intercept=Tr...  1.813846   \n",
       "4  LinearRegression(copy_X=True, fit_intercept=Tr...  1.814355   \n",
       "5  LinearRegression(copy_X=True, fit_intercept=Tr...  1.814973   \n",
       "6  LinearRegression(copy_X=True, fit_intercept=Tr...  1.814920   \n",
       "7  LinearRegression(copy_X=True, fit_intercept=Tr...  1.815083   \n",
       "8  LinearRegression(copy_X=True, fit_intercept=Tr...  1.815828   \n",
       "\n",
       "                                            features  \n",
       "1                                        [총_직장_인구_수]  \n",
       "2                             [아파트_평균_면적, 아파트_평균_시가]  \n",
       "3                  [아파트_평균_면적, 아파트_평균_시가, 총_직장_인구_수]  \n",
       "4          [아파트_평균_면적, 아파트_평균_시가, 집객시설_수, 총_직장_인구_수]  \n",
       "5  [아파트_평균_면적, 아파트_평균_시가, 집객시설_수, 당월_매출_금액, 총_직장_...  \n",
       "6  [총_유동인구_수, 아파트_단지_수, 아파트_평균_면적, 아파트_평균_시가, 총 상...  \n",
       "7  [총_유동인구_수, 아파트_단지_수, 아파트_평균_면적, 아파트_평균_시가, 총 상...  \n",
       "8  [총_유동인구_수, 아파트_단지_수, 아파트_평균_면적, 아파트_평균_시가, 총 상...  "
      ]
     },
     "execution_count": 80,
     "metadata": {},
     "output_type": "execute_result"
    }
   ],
   "source": [
    "# 독립변수 개수 1 ~ 8에 따른 모델 성능\n",
    "\n",
    "re_list = []\n",
    "for k in range(1,9):\n",
    "    re = getBest(X_train_3, y_train_3, k)\n",
    "    re_list.append(re)\n",
    "k = [i for i in range(1,9)]\n",
    "model_df = pd.DataFrame(re_list, k)\n",
    "model_df"
   ]
  },
  {
   "cell_type": "markdown",
   "metadata": {},
   "source": [
    "- RMSE가 가장 낮은 2번 모델 선택"
   ]
  },
  {
   "cell_type": "code",
   "execution_count": 82,
   "metadata": {},
   "outputs": [],
   "source": [
    "Model_3 = model_df.loc[2,'model']"
   ]
  },
  {
   "cell_type": "code",
   "execution_count": 83,
   "metadata": {},
   "outputs": [
    {
     "data": {
      "text/plain": [
       "array([ 0.75925428, -2.35816529])"
      ]
     },
     "execution_count": 83,
     "metadata": {},
     "output_type": "execute_result"
    }
   ],
   "source": [
    "# 회귀 계수\n",
    "\n",
    "Model_3.coef_"
   ]
  },
  {
   "cell_type": "code",
   "execution_count": 84,
   "metadata": {},
   "outputs": [
    {
     "data": {
      "text/plain": [
       "3.5787562017348136"
      ]
     },
     "execution_count": 84,
     "metadata": {},
     "output_type": "execute_result"
    }
   ],
   "source": [
    "# 회귀식 절편\n",
    "\n",
    "Model_3.intercept_"
   ]
  },
  {
   "cell_type": "markdown",
   "metadata": {},
   "source": [
    "### (3) 성능 확인"
   ]
  },
  {
   "cell_type": "code",
   "execution_count": 85,
   "metadata": {},
   "outputs": [],
   "source": [
    "f = model_df.loc[2,'features']"
   ]
  },
  {
   "cell_type": "code",
   "execution_count": 86,
   "metadata": {},
   "outputs": [
    {
     "data": {
      "text/plain": [
       "0.010531798920817681"
      ]
     },
     "execution_count": 86,
     "metadata": {},
     "output_type": "execute_result"
    }
   ],
   "source": [
    "# 훈련 데이터 결정계수(R-Squared)\n",
    "\n",
    "Model_3.score(X_train_3[f], y_train_3)"
   ]
  },
  {
   "cell_type": "code",
   "execution_count": 87,
   "metadata": {},
   "outputs": [
    {
     "data": {
      "text/plain": [
       "-0.004485368566813586"
      ]
     },
     "execution_count": 87,
     "metadata": {},
     "output_type": "execute_result"
    }
   ],
   "source": [
    "# 검증 데이터 결정계수(R-Squared)\n",
    "\n",
    "Model_3.score(X_test_3[f], y_test_3)"
   ]
  },
  {
   "cell_type": "code",
   "execution_count": 88,
   "metadata": {},
   "outputs": [
    {
     "data": {
      "text/plain": [
       "1.7576806278696189"
      ]
     },
     "execution_count": 88,
     "metadata": {},
     "output_type": "execute_result"
    }
   ],
   "source": [
    "# 훈련 데이터 RMSE\n",
    "\n",
    "y_pred = Model_3.predict(X_train_3[f])\n",
    "np.sqrt(mean_squared_error(y_train_3, y_pred))"
   ]
  },
  {
   "cell_type": "code",
   "execution_count": 89,
   "metadata": {},
   "outputs": [
    {
     "data": {
      "text/plain": [
       "1.8138206345258383"
      ]
     },
     "execution_count": 89,
     "metadata": {},
     "output_type": "execute_result"
    }
   ],
   "source": [
    "# 검증 데이터 RMSE\n",
    "\n",
    "y_pred = Model_3.predict(X_test_3[f])\n",
    "np.sqrt(mean_squared_error(y_test_3, y_pred))"
   ]
  }
 ],
 "metadata": {
  "kernelspec": {
   "display_name": "Python 3",
   "language": "python",
   "name": "python3"
  },
  "language_info": {
   "codemirror_mode": {
    "name": "ipython",
    "version": 3
   },
   "file_extension": ".py",
   "mimetype": "text/x-python",
   "name": "python",
   "nbconvert_exporter": "python",
   "pygments_lexer": "ipython3",
   "version": "3.7.6"
  }
 },
 "nbformat": 4,
 "nbformat_minor": 4
}
